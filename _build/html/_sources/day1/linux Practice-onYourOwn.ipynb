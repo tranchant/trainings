{
 "cells": [
  {
   "cell_type": "markdown",
   "metadata": {
    "slideshow": {
     "slide_type": "subslide"
    }
   },
   "source": [
    "# First steps on Linux - On Your Own\n",
    "\n",
    "The program is :\n",
    "* using linux commands seen previously and new linux commands\n",
    "* Counting number of reads, of files\n",
    "* Plot some basics stats\n",
    "* Recover sequences of interest from a GFF (capture seq)\n",
    "* Compare two files (BED)\n",
    "* Bonus: create a mini workflow with pipe"
   ]
  },
  {
   "cell_type": "markdown",
   "metadata": {},
   "source": [
    "# where are you? - `pwd`\n",
    "\n",
    "Check if you are in mydatalocal directory\n",
    "\n",
    "<img style=\"float: center;\" width=\"200\" height=\"200\"  src=\"https://tranchant.github.io/TransmittingScience/img/arbo1.png\">"
   ]
  },
  {
   "cell_type": "code",
   "execution_count": 9,
   "metadata": {
    "slideshow": {
     "slide_type": "slide"
    }
   },
   "outputs": [
    {
     "name": "stdout",
     "output_type": "stream",
     "text": [
      "/ifb/data/mydatalocal\n"
     ]
    }
   ],
   "source": [
    "PUT YOUR COMMAND HERE"
   ]
  },
  {
   "cell_type": "markdown",
   "metadata": {},
   "source": [
    "# List the content of the directory mydatalocal - `ls`\n"
   ]
  },
  {
   "cell_type": "code",
   "execution_count": 11,
   "metadata": {},
   "outputs": [
    {
     "name": "stdout",
     "output_type": "stream",
     "text": [
      "fastqDirLR  hello-day1.ipynb            reference.fasta\n",
      "fastqDirSR  linuxLessonPractical.ipynb  Untitled.ipynb\n"
     ]
    }
   ],
   "source": [
    "PUT YOUR COMMAND HERE"
   ]
  },
  {
   "cell_type": "markdown",
   "metadata": {},
   "source": [
    "<img style=\"float: center;\" width=\"200\" height=\"200\"  src=\"https://tranchant.github.io/TransmittingScience/img/arbo2.png\">"
   ]
  },
  {
   "cell_type": "markdown",
   "metadata": {},
   "source": [
    "# List the content of the directory  LINUX-TP - `ls -l`"
   ]
  },
  {
   "cell_type": "code",
   "execution_count": 32,
   "metadata": {},
   "outputs": [
    {
     "name": "stdout",
     "output_type": "stream",
     "text": [
      "AllEst.fasta  Bank  Data  Fasta  Script  transcritsAssembly.fasta\n"
     ]
    }
   ],
   "source": [
    "PUT YOUR COMMAND HERE"
   ]
  },
  {
   "cell_type": "markdown",
   "metadata": {},
   "source": [
    "<img style=\"float: center;\" width=\"500\" height=\"500\"  src=\"https://southgreenplatform.github.io/trainings//images/tpLinux/tp-arbo.png\">"
   ]
  },
  {
   "cell_type": "markdown",
   "metadata": {},
   "source": [
    "__EXERCICES:__\n",
    "\n",
    "* 1 - List the content of the directory Fasta by using its absolute path in first then its relative path - `ls` command\n",
    "* 2 - List the content of the directory Data with the `ls` command and the option `-R`\n",
    "* 3 - List the content of the directory Bank with the `ls` command and the option `-al` or `-a -l`\n"
   ]
  },
  {
   "cell_type": "code",
   "execution_count": null,
   "metadata": {},
   "outputs": [],
   "source": [
    "PUT YOUR COMMAND"
   ]
  },
  {
   "cell_type": "markdown",
   "metadata": {},
   "source": [
    "# Working with the wildcard `*`\n",
    "\n",
    "\n",
    "#### What is a wildcard ?\n",
    "\n",
    "* It is a character that can be used as a substitute for any of a class of characters in a search\n",
    "\n",
    "* Can be used with numerous linux commands \n",
    "\n",
    "#### How to use the wildcard `*`\n",
    "\n",
    "* \\* can represent zero characters, all single characters or any string\n",
    "\n",
    "###### Example\n",
    "`ls *fastq` will display __only the files ended by fastq__ in the directory where I am working1\n",
    "\n",
    "#### Try the following commands using (or not) the wildcad *"
   ]
  },
  {
   "cell_type": "code",
   "execution_count": 2,
   "metadata": {},
   "outputs": [
    {
     "name": "stdout",
     "output_type": "stream",
     "text": [
      "ls: impossible d'accéder à '/ifb/data/mydatalocal/LINUX-TP/Bank': Aucun fichier ou dossier de ce type\n"
     ]
    },
    {
     "ename": "",
     "evalue": "2",
     "output_type": "error",
     "traceback": []
    }
   ],
   "source": [
    "ls /ifb/data/mydatalocal/LINUX-TP/Bank"
   ]
  },
  {
   "cell_type": "code",
   "execution_count": 3,
   "metadata": {},
   "outputs": [
    {
     "name": "stdout",
     "output_type": "stream",
     "text": [
      "bash: /ifb/data/mydatalocal/LINUX-TP/Bank/*fasta: Aucun fichier ou dossier de ce type\n"
     ]
    },
    {
     "ename": "",
     "evalue": "127",
     "output_type": "error",
     "traceback": []
    }
   ],
   "source": [
    "ls /ifb/data/mydatalocal/LINUX-TP/Bank/*fasta"
   ]
  },
  {
   "cell_type": "markdown",
   "metadata": {},
   "source": [
    "__EXERCICES__\n",
    "\n",
    "* 4 - List the content of the directory T-coffee. Are there only fasta files ? - `ls command`\n",
    "* 5 - List only the files starting by sample (in the directory T-coffee ) - `ls command & *`\n",
    "* 6 - List only the files with the fasta extension (in the directory T-coffee ) - `ls command & *`\n",
    "\n"
   ]
  },
  {
   "cell_type": "code",
   "execution_count": null,
   "metadata": {},
   "outputs": [],
   "source": [
    "PUT YOUR COMMAND"
   ]
  },
  {
   "cell_type": "markdown",
   "metadata": {},
   "source": [
    "# Moving into file system using `cd` and `ls` command \n",
    "\n",
    "#### EXERCICES\n",
    "\n",
    "* 7 - Go to the directory _Script_ and check in the prompt you have changed correctly your working directory `pwd`\n",
    "* 8 - List the dir content with `ls`\n"
   ]
  },
  {
   "cell_type": "code",
   "execution_count": null,
   "metadata": {},
   "outputs": [],
   "source": [
    "PUT YOUR COMMAND"
   ]
  },
  {
   "cell_type": "markdown",
   "metadata": {},
   "source": [
    " #### Let's use the command `cd ..`\n",
    "\n",
    "* `cd ..`         : go one folder up\n",
    "* `cd ../..`      : go two folders up\n",
    "\n",
    "#### EXERCICES\n",
    "\n",
    "* 9 - Go to the _Fasta directory_ using `../`\n",
    "* 10 - Go to the _Fastq directory_. From this directory, and without any change in your working dir, list what’s in _samBam directory_\n",
    "* 11 - List _vcf directory_ using `-R option`. What is there in this dir ?\n",
    "* 12 - Come back to the _mydatalocal directory_"
   ]
  },
  {
   "cell_type": "code",
   "execution_count": null,
   "metadata": {},
   "outputs": [],
   "source": [
    "PUT YOUR COMMAND"
   ]
  },
  {
   "cell_type": "markdown",
   "metadata": {},
   "source": [
    "# Some Commands\n",
    "\n",
    "\n",
    "| |    |\n",
    "|:------|:------|\n",
    "|   pwd  | Display the full path of the current directory|\n",
    "|   ls  | List all files/directories|\n",
    "|   cd DIR_NAME| Change the working directory|\n",
    "| rm nom_fichier | Remove a directory\n",
    "| cp file1 file2 | Make a copy of file1 and calls it file2 |\n",
    "| cp FILE_NAME DIR_NAME | Copy the file FILE_NAME in the directory DIR_NAME |\n",
    "| cp FILE DIR/NEW_FILE | Mix of 2 |\n"
   ]
  },
  {
   "cell_type": "markdown",
   "metadata": {},
   "source": [
    "# Manipulating Files and Folders\n",
    "\n",
    "#### Exercices\n",
    "\n",
    "```{Note}\n",
    "Be careful with the `rm` command, in linux, there is no bin !!!\n",
    "```\n",
    "\n",
    "* 13 - Remove the file LINUX-TP.tar.gz within the directory mydatalocal - `rm`\n",
    "* 14 - Create a directory called jupyterBook in the firectory mydatalocal - `mkdir`\n",
    "* 15 - Copy the file hello-day1.ipynb, myFirstJupyterbook.ipŷnb into the directory jupyterBook\n",
    "* 16 - Remove the file hello-day1.ipynb, myFirstJupyterbook.ipynb in mydatalocal directory - `rm command`"
   ]
  },
  {
   "cell_type": "code",
   "execution_count": null,
   "metadata": {},
   "outputs": [],
   "source": [
    "PUT YOUR COMMAND"
   ]
  },
  {
   "cell_type": "markdown",
   "metadata": {},
   "source": [
    "<hr> \n",
    "\n",
    "# Let's practice some bioinformatics tools on th vm"
   ]
  },
  {
   "cell_type": "markdown",
   "metadata": {},
   "source": [
    "## 1 - Getting quickly a report with various statiustics about fastq file with ea-utils\n",
    "\n",
    "This software runs quickly, faster than fastqc and the output can be parsed and formatted with some basics linux command ea-utils website"
   ]
  },
  {
   "cell_type": "markdown",
   "metadata": {},
   "source": [
    "`fastq-stats -d fastq_path`"
   ]
  },
  {
   "cell_type": "markdown",
   "metadata": {},
   "source": [
    "###### EXERCICE 1\n",
    "\n",
    "Run the `fastq-stats` command on the following fastq file :  _Clone10-LR.fastq_ in the directory _fastqDirLR_\n",
    "\n",
    "`BE CAREFUL : put the correct absolute or relative path of the fastq file`"
   ]
  },
  {
   "cell_type": "code",
   "execution_count": null,
   "metadata": {},
   "outputs": [],
   "source": [
    "PUT YOUR COMMAND"
   ]
  },
  {
   "cell_type": "markdown",
   "metadata": {},
   "source": [
    "###### EXERCICE 2\n",
    "\n",
    "For saving the output of a command to a file, we will use the `>` character \n",
    "\n",
    "\n",
    "<img style=\"float: center;\" width=\"500\" height=\"500\"  src=\"https://tranchant.github.io/TransmittingScience/img/linuxRedirection.png\">\n",
    "\n",
    "Execute the following commands"
   ]
  },
  {
   "cell_type": "code",
   "execution_count": null,
   "metadata": {},
   "outputs": [],
   "source": [
    "fastq-stats -D  /ifb/data/mydatalocal/fastqDirLR/Clone9-LR.fastq "
   ]
  },
  {
   "cell_type": "code",
   "execution_count": null,
   "metadata": {},
   "outputs": [],
   "source": [
    "fastq-stats -D  /ifb/data/mydatalocal/fastqDirLR/Clone9-LR.fastq  > /ifb/data/mydatalocal/fastqDirLR/Clone9-LR.fastq-stats"
   ]
  },
  {
   "cell_type": "code",
   "execution_count": null,
   "metadata": {},
   "outputs": [],
   "source": [
    "ls /ifb/data/mydatalocal/fastqDirLR/*fastq"
   ]
  },
  {
   "cell_type": "code",
   "execution_count": null,
   "metadata": {},
   "outputs": [],
   "source": [
    "ls /ifb/data/mydatalocal/fastqDirLR/*fastq-stats"
   ]
  },
  {
   "cell_type": "code",
   "execution_count": null,
   "metadata": {},
   "outputs": [],
   "source": [
    "cat /ifb/data/mydatalocal/fastqDirLR/Clone9-LR.fastq-stats"
   ]
  },
  {
   "cell_type": "markdown",
   "metadata": {},
   "source": [
    "###### EXERCICE 3\n",
    "\n",
    "Now, we want to run `fastq-stats` on all files in the __fastqDirLR__\n",
    "\n",
    "* we will use a ‘for loop’ that is a bash programming language statement which allows code to be repeatedly executed\n",
    "\n",
    "\n",
    "```for ...  ;\n",
    "do\n",
    "    instruction1\n",
    "    instruction2\n",
    "    ...\n",
    "done```"
   ]
  },
  {
   "cell_type": "code",
   "execution_count": null,
   "metadata": {},
   "outputs": [],
   "source": [
    "cd /ifb/data/mydatalocal/fastqDirLR/\n",
    "pwd"
   ]
  },
  {
   "cell_type": "code",
   "execution_count": null,
   "metadata": {},
   "outputs": [],
   "source": [
    "for file in *; do \n",
    "    echo \" $file\";\n",
    "done;"
   ]
  },
  {
   "cell_type": "code",
   "execution_count": null,
   "metadata": {},
   "outputs": [],
   "source": [
    "for file in *fastq; do \n",
    "    echo \" File read : $file\";\n",
    "done;"
   ]
  },
  {
   "cell_type": "code",
   "execution_count": null,
   "metadata": {},
   "outputs": [],
   "source": [
    "for file in *fastq; do \n",
    "    echo \"File read : $file \";\n",
    "    echo -e \"File to create : $file-stat \\n\";\n",
    "done;"
   ]
  },
  {
   "cell_type": "code",
   "execution_count": null,
   "metadata": {},
   "outputs": [],
   "source": [
    "# PUT YOUR COMMAND WITH fastq-stats + redirection in a for loop\n"
   ]
  },
  {
   "cell_type": "markdown",
   "metadata": {},
   "source": [
    "##### EXERCICE 4\n",
    "\n",
    "We will use a script python to merge all individual stat files generated onto a single csv file"
   ]
  },
  {
   "cell_type": "markdown",
   "metadata": {},
   "source": [
    "`python3 /ifb/data/mydatalocal/LINUX-TP/Script/parseFastqStat.py -dir PUT_DIR -f PUT_CSV_FILE` with :\n",
    "* dir : directory that contains fastq-stat files (eg : /ifb/data/mydatalocal/fastqDirLR/)\n",
    "* csv : csv file within all the stat were merged (eg : /ifb/data/mydatalocal/fastqDirLR.statsMerged.csv) \n",
    "\n",
    "__4.1 - Run the following command__"
   ]
  },
  {
   "cell_type": "code",
   "execution_count": 9,
   "metadata": {},
   "outputs": [
    {
     "name": "stdout",
     "output_type": "stream",
     "text": [
      "python3: can't open file '/ifb/data/mydatalocal/LINUX-TP/Script/parseFastqStat.py': [Errno 2] No such file or directory\n"
     ]
    },
    {
     "ename": "",
     "evalue": "2",
     "output_type": "error",
     "traceback": []
    }
   ],
   "source": [
    "python3 /ifb/data/mydatalocal/LINUX-TP/Script/parseFastqStat.py -dir ifb/data/mydatalocal/fastqDirLR/ -f /ifb/data/mydatalocal/fastqDirLR.statsMerged.csv"
   ]
  },
  {
   "cell_type": "markdown",
   "metadata": {},
   "source": [
    "__4.2 - Checking step__\n",
    "\n",
    "Check that the file `/ifb/data/mydatalocal/fastqDirLR.statsMerged.csv` has been created `ls`, `cat`"
   ]
  },
  {
   "cell_type": "code",
   "execution_count": null,
   "metadata": {},
   "outputs": [],
   "source": [
    "PUT YOUR COMMAND"
   ]
  },
  {
   "cell_type": "markdown",
   "metadata": {},
   "source": [
    "__4.3 Plot some basics stats__\n",
    "\n",
    "Open the jupyter book fastq-stats (python kernel) to displays basic plots"
   ]
  },
  {
   "cell_type": "markdown",
   "metadata": {},
   "source": [
    "<hr>\n",
    "\n"
   ]
  },
  {
   "cell_type": "markdown",
   "metadata": {},
   "source": [
    "## 2 - Manipulation of `gff` and `bed` files \n",
    "\n",
    "* Recover sequences of interest from a GFF (capture seq)\n",
    "* Compare two files (BED)"
   ]
  },
  {
   "cell_type": "markdown",
   "metadata": {},
   "source": [
    "#### Download the file that contains the rice genome annotation (gff format) and the sequence of the 12 chromosomes (fasta format) - `wget`\n",
    "\n",
    "* the gff file (all.gff3) is available here : http://rice.plantbiology.msu.edu/pub/data/Eukaryotic_Projects/o_sativa/annotation_dbs/pseudomolecules/version_7.0/all.dir\n",
    "\n",
    "* the url of the  gff file (all.gff3) : http://rice.plantbiology.msu.edu/pub/data/Eukaryotic_Projects/o_sativa/annotation_dbs/pseudomolecules/version_7.0/all.dir/all.gff3\n",
    "\n",
    "* the url of the fasta file (all.chr.con):\n",
    "http://rice.plantbiology.msu.edu/pub/data/Eukaryotic_Projects/o_sativa/annotation_dbs/pseudomolecules/version_7.0/all.dir/all.chrs.con"
   ]
  },
  {
   "cell_type": "markdown",
   "metadata": {},
   "source": [
    "###### EXERCICE : \n",
    "\n",
    "* 1 - Go to the bank directory and type the correct wget command\n",
    "* 2 - Download the gff file (all.gff3) and the fasta file (all.chrs.con) in the bank directory \n",
    "* 3 - List the content of the bank directory\n",
    "* 4 - Count the line number of the gff file\n",
    "* 5 - Displays the firsts and lasts lines of the gff file\n",
    "\n"
   ]
  },
  {
   "cell_type": "code",
   "execution_count": null,
   "metadata": {},
   "outputs": [],
   "source": [
    "PUT YOUR WGET COMMAND"
   ]
  },
  {
   "cell_type": "markdown",
   "metadata": {},
   "source": [
    "#### More information about gff format\n",
    "\n",
    "* the gff (General Feature Format) file is a simple tab-delimited text file for describing genomic features \n",
    "\n",
    "* see here to understand the gff format : https://www.ensembl.org/info/website/upload/gff.html"
   ]
  },
  {
   "cell_type": "markdown",
   "metadata": {},
   "source": [
    "###### Counts the number of gene (line with the word \"gene\", column 3)\n",
    "\n",
    "* We will use a new linux command `grep` \n",
    "* for example, we want to count the number of sequences in the fasta file just downloaded "
   ]
  },
  {
   "cell_type": "code",
   "execution_count": 10,
   "metadata": {},
   "outputs": [
    {
     "name": "stdout",
     "output_type": "stream",
     "text": [
      "head: impossible d'ouvrir '/ifb/data/public/swissprot/current/flat/swissprot' en lecture: Aucun fichier ou dossier de ce type\n"
     ]
    },
    {
     "ename": "",
     "evalue": "1",
     "output_type": "error",
     "traceback": []
    }
   ],
   "source": [
    "head -n 20 all.chrs.con"
   ]
  },
  {
   "cell_type": "code",
   "execution_count": null,
   "metadata": {},
   "outputs": [],
   "source": [
    "tail -n 20 all.chrs.con"
   ]
  },
  {
   "cell_type": "code",
   "execution_count": null,
   "metadata": {},
   "outputs": [],
   "source": [
    "wc -l all.chrs.con"
   ]
  },
  {
   "cell_type": "markdown",
   "metadata": {},
   "source": [
    "###### Search and count for > motif in the rice genome (fasta)"
   ]
  },
  {
   "cell_type": "code",
   "execution_count": null,
   "metadata": {},
   "outputs": [],
   "source": [
    "grep \">\" all.chrs.con"
   ]
  },
  {
   "cell_type": "code",
   "execution_count": null,
   "metadata": {},
   "outputs": [],
   "source": [
    "grep \">\" all.chrs.con -c"
   ]
  },
  {
   "cell_type": "markdown",
   "metadata": {},
   "source": [
    "###### Search for the keyword `exon`  in the gff file"
   ]
  },
  {
   "cell_type": "code",
   "execution_count": null,
   "metadata": {},
   "outputs": [],
   "source": [
    "grep \"exon\" all.gff3 | head"
   ]
  },
  {
   "cell_type": "code",
   "execution_count": null,
   "metadata": {},
   "outputs": [],
   "source": [
    "grep \"exon\" all.gff3 -c"
   ]
  },
  {
   "cell_type": "markdown",
   "metadata": {},
   "source": [
    "###### EXERCICE"
   ]
  },
  {
   "cell_type": "markdown",
   "metadata": {},
   "source": [
    "* 1 - search/select only the lines with the gene keyword int the gff file - `grep`\n",
    "* 2 - save in a new file (all_gene.gff3) all the lines with the gene keyword in the gff file all.gff3\n"
   ]
  },
  {
   "cell_type": "markdown",
   "metadata": {},
   "source": [
    "###### Compare two bed files\n",
    "\n",
    "We have found 3 genomic regions of interest from a previous analysis in our lab. The file qtl.bed contains informations about theses regions (chromosome, start, stop) / bed format  "
   ]
  },
  {
   "cell_type": "code",
   "execution_count": null,
   "metadata": {},
   "outputs": [],
   "source": [
    "cat qtl.bed"
   ]
  },
  {
   "cell_type": "markdown",
   "metadata": {},
   "source": [
    "###### Recover sequences of interest from a gff (capture seq)\n",
    "\n",
    "We want to extract sequences for each genomic region using `bedtools fastaFromBed`\n",
    "\n",
    "`fastFromBed -fi sequences.fasta -bed bed file`\n",
    "\n",
    "Link : https://bioweb.pasteur.fr/docs/modules/bedtools/2.17.0/content/fastafromBed.html"
   ]
  },
  {
   "cell_type": "code",
   "execution_count": null,
   "metadata": {},
   "outputs": [],
   "source": [
    "PUT YOUR COMMAND with -fi and -bed options"
   ]
  },
  {
   "cell_type": "code",
   "execution_count": null,
   "metadata": {},
   "outputs": [],
   "source": [
    "PUT YOUR COMMAND with -fi and -bedand -fo options"
   ]
  },
  {
   "cell_type": "code",
   "execution_count": null,
   "metadata": {},
   "outputs": [],
   "source": [
    "fastaFromBed -fi all.chrs.con -bed qtl.bed -fo qtl.bed.fasta\n",
    "bedtools intersect -a all_gene.gff3 -b qtl.bed"
   ]
  },
  {
   "cell_type": "markdown",
   "metadata": {},
   "source": [
    "###### Compare two files \n",
    "\n",
    "We want to extract annotation information (all_gene.gff3) for each genomic region (qtl.bed) using `bedtools intersect`\n",
    "\n",
    "\n",
    "Link : https://bedtools.readthedocs.io/en/latest/content/tools/intersect.html\n"
   ]
  },
  {
   "cell_type": "code",
   "execution_count": null,
   "metadata": {},
   "outputs": [],
   "source": [
    "PUT YOUR COMMAND "
   ]
  }
 ],
 "metadata": {
  "celltoolbar": "Format de la Cellule Texte Brut",
  "kernelspec": {
   "display_name": "Bash",
   "language": "bash",
   "name": "bash"
  },
  "language_info": {
   "codemirror_mode": "shell",
   "file_extension": ".sh",
   "mimetype": "text/x-sh",
   "name": "bash"
  },
  "rise": {
   "enable_chalkboard": true
  }
 },
 "nbformat": 4,
 "nbformat_minor": 4
}
