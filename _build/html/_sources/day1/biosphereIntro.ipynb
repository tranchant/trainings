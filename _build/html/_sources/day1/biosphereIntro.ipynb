{
 "cells": [
  {
   "cell_type": "markdown",
   "metadata": {
    "slideshow": {
     "slide_type": "slide"
    }
   },
   "source": [
    "# Discovering jupyter book and IFB cloud\n",
    "\n",
    "<img style=\"float: left;\"   width=\"100px\" heigth=\"100px\"  src=\"https://upload.wikimedia.org/wikipedia/commons/thumb/3/38/Jupyter_logo.svg/1200px-Jupyter_logo.svg.png\">\n",
    "\n",
    "<img style=\"float: right;\"   src=\"https://ressources.france-bioinformatique.fr/sites/default/files/logo-ifb_RVB_v2.jpg\">\n",
    "\n",
    "<br /> \n",
    "\n",
    "Christine Tranchant-Dubreuil and François Sabot "
   ]
  },
  {
   "cell_type": "markdown",
   "metadata": {
    "slideshow": {
     "slide_type": "slide"
    }
   },
   "source": [
    "# What is a Jupyter Notebook ?\n",
    "\n",
    "* __One of the most popular tool among data scientists__ to perform data analysis and generate reports.\n",
    "\n",
    "* Provides a complete environment in which numerous programming languages can be use through a simple web browser\n",
    "\n",
    "<img style=\"float: center;\"   src=\"https://cdn.analyticsvidhya.com/wp-content/uploads/2018/04/jupyter-768x382.png\">\n",
    "\n"
   ]
  },
  {
   "cell_type": "markdown",
   "metadata": {
    "slideshow": {
     "slide_type": "slide"
    }
   },
   "source": [
    "# Why using Jupyter Notebook ?\n",
    "\n",
    "An unique interface/file where text,code and output codes can be mixed  :\n",
    "* code (R, python, bash...) can be executed inside each cell of the notebook \n",
    "* code output is directly displayed in the notebook\n",
    "* explanations, formulas, charts can be added\n",
    "\n",
    "<img style=\"float: left;\" width=\"500\" height=\"500\" src=\"https://tranchant.github.io/TransmittingScience/img/jb1.png\">\n",
    "\n",
    "<img style=\"float: right;\" width=\"500\" height=\"500\" src=\"https://tranchant.github.io/TransmittingScience/img/jb2.png\">"
   ]
  },
  {
   "cell_type": "markdown",
   "metadata": {
    "slideshow": {
     "slide_type": "slide"
    }
   },
   "source": [
    "# Why using Jupyter Notebook ?\n",
    "\n",
    "* One file to analyze data (with R, Python, linux) and generate reports\n",
    "\n",
    "* the Notebooks can be exported to many formats, including PDF and HTML, which makes it easy to share your project with anyone.\n",
    "\n",
    "__Analysis are more transparent, repeatable and shareable__\n",
    "\n",
    "__lab notebook for science data ?__"
   ]
  },
  {
   "cell_type": "markdown",
   "metadata": {
    "slideshow": {
     "slide_type": "slide"
    }
   },
   "source": [
    "# How will you use Jupyter  Notebook during the training ?\n",
    "\n",
    "* through a jupyter hub connected to bioinformatics clusters\n",
    "\n",
    "<img style=\"float: center;\" width=\"500px\" heigth=\"500px\"  src=\"https://ressources.france-bioinformatique.fr/sites/default/files/events/serverroom_69046129.jpg\">"
   ]
  },
  {
   "cell_type": "markdown",
   "metadata": {
    "slideshow": {
     "slide_type": "slide"
    }
   },
   "source": [
    "# How will you use Jupyter  Notebook during the training ?\n",
    "\n",
    "* through a jupyter hub connected to bioinformatics clusters\n",
    "\n",
    "\n",
    "\n",
    "* we will create jupyter books and execute analysis throught them\n",
    "\n",
    "\n",
    "<img style=\"float:center;\" width=\"800\" height=\"800\" src=\"https://tranchant.github.io/TransmittingScience/img/cloudCreateJB.png\">\n"
   ]
  },
  {
   "cell_type": "markdown",
   "metadata": {
    "slideshow": {
     "slide_type": "slide"
    }
   },
   "source": [
    "# BIOSPHERE, IFB CLOUD FOR LIFE SCIENCES\n",
    "\n",
    "* A federation of clouds, which relies on interconnected IFB's infrastructures, providing distributed services to analyze life science data. <img style=\"float: left;\"   src=\"https://ressources.france-bioinformatique.fr/sites/default/files/logo-ifb_RVB_v2.jpg\">\n",
    "\n",
    "<img style=\"float: right;\" width=\"400px\" heigth=\"400px\"  src=\"https://www.france-bioinformatique.fr/wp-content/uploads/carteFull-IFB-612x800.png\">\n"
   ]
  },
  {
   "cell_type": "markdown",
   "metadata": {
    "slideshow": {
     "slide_type": "slide"
    }
   },
   "source": [
    "# BIOSPHERE, IFB CLOUD FOR LIFE SCIENCES\n",
    "\n",
    "* A large set of virtual machines to access larger CPU resources and to use different data sources/tools \n",
    "\n",
    "* Used for scientific production in the life sciences, developments, and also to support events like cloud and scientific training sessions, hackathons or workshops.\n",
    "\n",
    "<img style=\"float: center;\"  width=\"500px\" heigth=\"500px\" src=\"https://www.france-bioinformatique.fr/wp-content/uploads/Cloud-IFB-v2.jpg\">"
   ]
  },
  {
   "cell_type": "markdown",
   "metadata": {
    "slideshow": {
     "slide_type": "slide"
    }
   },
   "source": [
    "# Let's start with biosphere\n",
    "\n",
    "* Open the biosphere website : https://biosphere.france-bioinformatique.fr/cloud/ and sign in\n",
    "\n",
    "<img style=\"float: center;\" width=\"800\" height=\"800\" src=\"https://tranchant.github.io/TransmittingScience/img/cloudsignin.png\">"
   ]
  },
  {
   "cell_type": "markdown",
   "metadata": {
    "slideshow": {
     "slide_type": "slide"
    }
   },
   "source": [
    "# Connected / Here we are\n",
    "\n",
    "\n",
    "<img style=\"float: center;\" width=\"600\" height=\"600\" src=\"https://tranchant.github.io/TransmittingScience/img/cloudHome.png\">"
   ]
  },
  {
   "cell_type": "markdown",
   "metadata": {
    "slideshow": {
     "slide_type": "slide"
    }
   },
   "source": [
    "# Where is the virtual machine that we will use?\n",
    "\n",
    "<img style=\"float: center;\" width=\"800\" height=\"800\" src=\"https://tranchant.github.io/TransmittingScience/img/cloudRainbio.png\">"
   ]
  },
  {
   "cell_type": "markdown",
   "metadata": {
    "slideshow": {
     "slide_type": "slide"
    }
   },
   "source": [
    "# Let's switch on the NGSanalysisJupyter vm\n",
    "\n",
    "<img style=\"float: center;\" width=\"800\" height=\"800\" src=\"https://tranchant.github.io/TransmittingScience/img/cloudvm.png\">"
   ]
  },
  {
   "cell_type": "markdown",
   "metadata": {
    "slideshow": {
     "slide_type": "slide"
    }
   },
   "source": [
    "# User cloud dashboard\n",
    "\n",
    "<img style=\"float: center;\" width=\"800\" height=\"800\" src=\"https://tranchant.github.io/TransmittingScience/img/clouddashboard.png\">"
   ]
  },
  {
   "cell_type": "markdown",
   "metadata": {
    "slideshow": {
     "slide_type": "slide"
    }
   },
   "source": [
    "# Let's run our vm\n",
    "\n",
    "* get the tocken identifiant (params link)\n",
    "\n",
    "<img style=\"float: center;\" width=\"800\" height=\"800\" src=\"https://tranchant.github.io/TransmittingScience/img/cloudtoken.png\">"
   ]
  },
  {
   "cell_type": "markdown",
   "metadata": {
    "slideshow": {
     "slide_type": "slide"
    }
   },
   "source": [
    "# Let's run our vm\n",
    "\n",
    "* open our vm (https link) to open jupyter hub on our vm\n",
    "\n",
    "<img style=\"float: center;\" width=\"800\" height=\"800\" src=\"https://tranchant.github.io/TransmittingScience/img/cloudJupyterHub.png\">"
   ]
  },
  {
   "cell_type": "markdown",
   "metadata": {
    "slideshow": {
     "slide_type": "slide"
    }
   },
   "source": [
    "# Create your first jupyter book (bash)\n",
    "\n",
    "\n",
    "<img style=\"float: center;\" width=\"800\" height=\"800\" src=\"https://tranchant.github.io/TransmittingScience/img/cloudCreateJB.png\">"
   ]
  },
  {
   "cell_type": "markdown",
   "metadata": {
    "slideshow": {
     "slide_type": "slide"
    }
   },
   "source": [
    "# Rename your jupyter book\n",
    "\n",
    "<img style=\"float: center;\" width=\"800\" height=\"800\" src=\"https://tranchant.github.io/TransmittingScience/img/cloudRenameJB.png\">"
   ]
  },
  {
   "cell_type": "markdown",
   "metadata": {
    "slideshow": {
     "slide_type": "slide"
    }
   },
   "source": [
    "# Launch your first bash command `wget`\n",
    "\n",
    "* to download a jupyter book to prepare your working environment\n",
    "\n",
    "* `wget https://bioinfo-storage.ird.fr/teachingNGS/jupyterBook/hello-day1.ipynb --no-check-certificate`\n",
    "\n",
    "<img style=\"float: center;\" width=\"800\" height=\"800\" src=\"https://tranchant.github.io/TransmittingScience/img/cloudJBwget.png\">"
   ]
  },
  {
   "cell_type": "markdown",
   "metadata": {
    "slideshow": {
     "slide_type": "slide"
    }
   },
   "source": [
    "# Don't hesitate to add explanations\n",
    "\n",
    "\n",
    "<img style=\"float: center;\" width=\"800\" height=\"800\" src=\"https://tranchant.github.io/TransmittingScience/img/cloudJB1Md.png\">"
   ]
  },
  {
   "cell_type": "markdown",
   "metadata": {
    "slideshow": {
     "slide_type": "slide"
    }
   },
   "source": [
    "# Open \"hello_day1.ipynb\" and execute all the cells \n",
    "\n",
    "* This notebook prepare your environment used for this training\n",
    "\n",
    "* Execute Cell 3 and cell 6! At the end of the day, you will understand all the linux commands written in this notebook\n"
   ]
  },
  {
   "cell_type": "markdown",
   "metadata": {
    "slideshow": {
     "slide_type": "subslide"
    }
   },
   "source": [
    "<img style=\"float: center;\" width=\"800\" height=\"800\" src=\"https://tranchant.github.io/TransmittingScience/img/cloudEnvtBeforeTP.png\">"
   ]
  },
  {
   "cell_type": "code",
   "execution_count": null,
   "metadata": {},
   "outputs": [],
   "source": []
  }
 ],
 "metadata": {
  "celltoolbar": "Diaporama",
  "kernelspec": {
   "display_name": "Bash",
   "language": "bash",
   "name": "bash"
  },
  "language_info": {
   "codemirror_mode": "shell",
   "file_extension": ".sh",
   "mimetype": "text/x-sh",
   "name": "bash"
  }
 },
 "nbformat": 4,
 "nbformat_minor": 4
}
