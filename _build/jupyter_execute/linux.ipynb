{
 "cells": [
  {
   "cell_type": "markdown",
   "metadata": {},
   "source": [
    "# Linux"
   ]
  },
  {
   "cell_type": "code",
   "execution_count": 1,
   "metadata": {},
   "outputs": [
    {
     "name": "stdout",
     "output_type": "stream",
     "text": [
      "\u001b[0m\u001b[01;34m_build\u001b[0m/                \u001b[01;32mimage.png\u001b[0m*              linuxSlides.ipynb\r\n",
      "\u001b[01;32m_config.yml\u001b[0m*           \u001b[01;34mimg\u001b[0m/                    linuxSlides.slides.html\r\n",
      "\u001b[01;32mday1.md\u001b[0m*               \u001b[01;32mintroduction-Copy1.md\u001b[0m*  \u001b[01;32mreferences.bib\u001b[0m*\r\n",
      "day2.md                \u001b[01;32mintroduction.md\u001b[0m*        \u001b[01;32mrequirements.txt\u001b[0m*\r\n",
      "\u001b[01;32mgreat_red_spot.html\u001b[0m*   \u001b[01;34mjupiter\u001b[0m/                slides_config.tpl\r\n",
      "\u001b[01;32mgreat_red_spot.ipynb\u001b[0m*  \u001b[01;32mlinux.ipynb\u001b[0m*            \u001b[01;32m_toc.yml\u001b[0m*\r\n"
     ]
    }
   ],
   "source": [
    "ls"
   ]
  },
  {
   "cell_type": "code",
   "execution_count": null,
   "metadata": {},
   "outputs": [],
   "source": []
  }
 ],
 "metadata": {
  "kernelspec": {
   "display_name": "Python 3",
   "language": "python",
   "name": "python3"
  },
  "language_info": {
   "codemirror_mode": {
    "name": "ipython",
    "version": 3
   },
   "file_extension": ".py",
   "mimetype": "text/x-python",
   "name": "python",
   "nbconvert_exporter": "python",
   "pygments_lexer": "ipython3",
   "version": "3.8.6"
  }
 },
 "nbformat": 4,
 "nbformat_minor": 4
}