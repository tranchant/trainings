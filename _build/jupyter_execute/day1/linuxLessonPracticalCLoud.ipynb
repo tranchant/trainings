{
 "cells": [
  {
   "cell_type": "markdown",
   "metadata": {
    "slideshow": {
     "slide_type": "subslide"
    }
   },
   "source": [
    "# First steps on Linux\n",
    "\n",
    "Commands for *moving around the file system* and *manipulating files/folders*\n",
    "\n",
    "<img style=\"float: left;\" width=\"800\" height=\"800\"  src=\"https://upload.wikimedia.org/wikipedia/commons/f/f3/Standard-unix-filesystem-hierarchy.svg\">\n"
   ]
  },
  {
   "cell_type": "markdown",
   "metadata": {
    "slideshow": {
     "slide_type": "slide"
    }
   },
   "source": [
    "# Linux command syntax\n",
    "\n",
    "command [ -options] [ arguments ]\n"
   ]
  },
  {
   "cell_type": "markdown",
   "metadata": {},
   "source": [
    "# Your first command _pwd_\n",
    "\n",
    "**pwd** print the name of the curent directory (the full path)"
   ]
  },
  {
   "cell_type": "code",
   "execution_count": 1,
   "metadata": {
    "slideshow": {
     "slide_type": "slide"
    }
   },
   "outputs": [
    {
     "name": "stdout",
     "output_type": "stream",
     "text": [
      "/home/christine/TS/day1\n"
     ]
    }
   ],
   "source": [
    "pwd"
   ]
  },
  {
   "cell_type": "markdown",
   "metadata": {},
   "source": [
    "<img style=\"float: center;\" width=\"200\" height=\"200\"  src=\"https://tranchant.github.io/TransmittingScience/img/arbo1.png\">"
   ]
  },
  {
   "cell_type": "markdown",
   "metadata": {},
   "source": [
    "# 2nd command _ls_\n",
    "\n",
    "* without argument : list all the files in the current directory (by default)\n"
   ]
  },
  {
   "cell_type": "code",
   "execution_count": 2,
   "metadata": {},
   "outputs": [
    {
     "name": "stdout",
     "output_type": "stream",
     "text": [
      " biosphereIntro.ipynb              linuxLessonPractical.ipynb\n"
     ]
    },
    {
     "name": "stdout",
     "output_type": "stream",
     "text": [
      " biosphereIntro.slides.html        linuxLesson.slides.html\n"
     ]
    },
    {
     "name": "stdout",
     "output_type": "stream",
     "text": [
      " \u001b[0m\u001b[01;32mday1.md\u001b[0m                          'linux Practice-onYourOwn.ipynb'\n"
     ]
    },
    {
     "name": "stdout",
     "output_type": "stream",
     "text": [
      " fastq-stats.ipynb                 linuxPractice-onYourOwn.ipynb\n"
     ]
    },
    {
     "name": "stdout",
     "output_type": "stream",
     "text": [
      " linuxHomework.ipynb               stat-merged.csv\n"
     ]
    },
    {
     "name": "stdout",
     "output_type": "stream",
     "text": [
      " linuxLesson.ipynb                 Untitled.ipynb\n"
     ]
    },
    {
     "name": "stdout",
     "output_type": "stream",
     "text": [
      " linuxLessonPracticalCLoud.ipynb\n"
     ]
    }
   ],
   "source": [
    "ls"
   ]
  },
  {
   "cell_type": "markdown",
   "metadata": {},
   "source": [
    "<img style=\"float: center;\" width=\"200\" height=\"200\"  src=\"https://tranchant.github.io/TransmittingScience/img/arbo2.png\">"
   ]
  },
  {
   "cell_type": "markdown",
   "metadata": {},
   "source": [
    "# 2nd command + option _ls -l_\n",
    "\n",
    "ls -l : _list files with more information about each file_ (long)"
   ]
  },
  {
   "cell_type": "code",
   "execution_count": 3,
   "metadata": {},
   "outputs": [
    {
     "name": "stdout",
     "output_type": "stream",
     "text": [
      "total 764\n"
     ]
    },
    {
     "name": "stdout",
     "output_type": "stream",
     "text": [
      "-rw-rw-r-- 1 christine christine   9890 janv. 14 12:10  biosphereIntro.ipynb\n"
     ]
    },
    {
     "name": "stdout",
     "output_type": "stream",
     "text": [
      "-rw-rw-r-- 1 christine christine 290885 janv. 14 12:20  biosphereIntro.slides.html\n"
     ]
    },
    {
     "name": "stdout",
     "output_type": "stream",
     "text": [
      "-rwxr-xr-x 1 christine christine    859 janv. 17 12:27  \u001b[0m\u001b[01;32mday1.md\u001b[0m\n"
     ]
    },
    {
     "name": "stdout",
     "output_type": "stream",
     "text": [
      "-rw-rw-r-- 1 christine christine  38015 janv. 17 19:15  fastq-stats.ipynb\n"
     ]
    },
    {
     "name": "stdout",
     "output_type": "stream",
     "text": [
      "-rw-rw-r-- 1 christine christine   1697 janv.  6 13:04  linuxHomework.ipynb\n"
     ]
    },
    {
     "name": "stdout",
     "output_type": "stream",
     "text": [
      "-rw-rw-r-- 1 christine christine  29962 janv. 17 12:41  linuxLesson.ipynb\n"
     ]
    },
    {
     "name": "stdout",
     "output_type": "stream",
     "text": [
      "-rw-rw-r-- 1 christine christine  16337 janv. 17 16:58  linuxLessonPracticalCLoud.ipynb\n"
     ]
    },
    {
     "name": "stdout",
     "output_type": "stream",
     "text": [
      "-rw-rw-r-- 1 christine christine   5612 janv. 13 10:24  linuxLessonPractical.ipynb\n"
     ]
    },
    {
     "name": "stdout",
     "output_type": "stream",
     "text": [
      "-rw-rw-r-- 1 christine christine 320629 janv. 17 11:22  linuxLesson.slides.html\n"
     ]
    },
    {
     "name": "stdout",
     "output_type": "stream",
     "text": [
      "-rw-rw-r-- 1 christine christine  20556 janv. 17 19:14 'linux Practice-onYourOwn.ipynb'\n"
     ]
    },
    {
     "name": "stdout",
     "output_type": "stream",
     "text": [
      "-rw-rw-r-- 1 christine christine   8199 janv. 17 11:22  linuxPractice-onYourOwn.ipynb\n"
     ]
    },
    {
     "name": "stdout",
     "output_type": "stream",
     "text": [
      "-rw-rw-r-- 1 christine christine     48 janv. 17 19:16  stat-merged.csv\n"
     ]
    },
    {
     "name": "stdout",
     "output_type": "stream",
     "text": [
      "-rw-rw-r-- 1 christine christine   2227 janv. 17 16:00  Untitled.ipynb\n"
     ]
    }
   ],
   "source": [
    "ls -l"
   ]
  },
  {
   "cell_type": "markdown",
   "metadata": {},
   "source": [
    "# 2nd command + argument\n",
    "\n",
    "with argument <=> directory path"
   ]
  },
  {
   "cell_type": "code",
   "execution_count": 4,
   "metadata": {},
   "outputs": [
    {
     "name": "stdout",
     "output_type": "stream",
     "text": [
      "ls: impossible d'accéder à 'fastqDirLR': Aucun fichier ou dossier de ce type\n"
     ]
    },
    {
     "ename": "",
     "evalue": "2",
     "output_type": "error",
     "traceback": []
    }
   ],
   "source": [
    "ls fastqDirLR"
   ]
  },
  {
   "cell_type": "markdown",
   "metadata": {},
   "source": [
    "<img style=\"float: left;\" width=\"100\" height=\"100\"  src=\"http://vibepictures.com/wp-content/uploads/2014/02/avatar-tux-jedi-star-wars-linux-acatos1.png\"> \n",
    "\n",
    "### It's your turn !\n",
    "\n",
    "\n",
    "        * list the content of the directory fastqDirSR \n",
    "        \n",
    "<img style=\"float: center;\" width=\"200\" height=\"200\"  src=\"https://tranchant.github.io/TransmittingScience/img/arbo2.png\">"
   ]
  },
  {
   "cell_type": "markdown",
   "metadata": {},
   "source": [
    "# A few Basic Commands\n",
    "\n",
    "How to get help about one command\n",
    "\n",
    "* with the ’option --help ou -h     \n",
    "* with the command man       "
   ]
  },
  {
   "cell_type": "markdown",
   "metadata": {},
   "source": [
    "# A few Basic Commands\n",
    "\n",
    "\n",
    "| |    |\n",
    "|------|------|\n",
    "|   pwd  | Display the full path of the current directory|\n",
    "|   ls  | List all files/directories|\n",
    "|   ls -l  | Display all files (Long listing)|\n"
   ]
  },
  {
   "cell_type": "markdown",
   "metadata": {},
   "source": [
    "# The file tree - file system\n",
    "\n",
    "*  Directory structure starts at the root directory called “/” (slash) \n",
    "\n",
    "<img style=\"float: center;\" width=\"500\" height=\"500\"  src=\"https://tranchant.github.io/TransmittingScience/img/arbo3.png\">"
   ]
  },
  {
   "cell_type": "markdown",
   "metadata": {},
   "source": [
    "<img style=\"float: left;\" width=\"100\" height=\"100\"  src=\"http://vibepictures.com/wp-content/uploads/2014/02/avatar-tux-jedi-star-wars-linux-acatos1.png\"> \n",
    "\n",
    "### It's your turn !\n",
    "\n",
    "\n",
    "        * list the content of the root directory"
   ]
  },
  {
   "cell_type": "markdown",
   "metadata": {},
   "source": [
    "# The file tree - Main directories\n",
    "\n",
    "<img style=\"float: center;\" width=\"500\" height=\"500\"  src=\"https://tranchant.github.io/TransmittingScience/img/arbo4.png\">\n",
    "\n",
    "\n"
   ]
  },
  {
   "cell_type": "markdown",
   "metadata": {},
   "source": [
    "# Path of a file\n",
    "\n",
    "* Path =  location to a file/directory in the file system\n",
    "\n",
    "* On linux filetree, you can use absolute or relative path \n",
    "\n"
   ]
  },
  {
   "cell_type": "markdown",
   "metadata": {},
   "source": [
    "<img style=\"float: left;\" width=\"100\" height=\"100\"  src=\"https://i.pinimg.com/236x/a8/cc/00/a8cc00c8b1b3aa8d37749fd3e00eaa25--page-blogspot-com.jpg\"> \n",
    "        * What is the difference between the absolute and relative path ?\n"
   ]
  },
  {
   "cell_type": "markdown",
   "metadata": {},
   "source": [
    "# In brief\n",
    "\n",
    "* Path =  location to a file/directory in the file system\n",
    "\n",
    "| ABSOLUTE  | RELATIVE   |\n",
    "|:------|:------|\n",
    "|  Complete path of a file <br />starting from the root directory /  | Path related to the present working directory <br /> (where the user is working) \n",
    "|\n",
    "|   starts always with / | Never starts with / |\n",
    "|   always good wherever user is working | Depends on where the user is working| \n",
    "\n"
   ]
  },
  {
   "cell_type": "markdown",
   "metadata": {},
   "source": [
    "# Absolute Path \n",
    "\n",
    "* Always start with / (root directory)\n",
    "\n",
    "* Always works wherever user is working on the server or vm\n",
    "\n",
    "<img style=\"float: center;\" width=\"500\" height=\"500\"  src=\"https://tranchant.github.io/TransmittingScience/img/absolute1.png\">\n",
    "\n",
    "<img style=\"float: left;\" width=\"100\" height=\"100\"  src=\"https://i.pinimg.com/236x/a8/cc/00/a8cc00c8b1b3aa8d37749fd3e00eaa25--page-blogspot-com.jpg\"> \n",
    "        * What is the absolute path of the file sequence.fasta ?\n",
    "\n"
   ]
  },
  {
   "cell_type": "markdown",
   "metadata": {},
   "source": [
    "# Absolute Path \n",
    "\n",
    "* Always start with / (root directory)\n",
    "\n",
    "* Always works wherever user is working on the server or vm\n",
    "\n",
    "<img style=\"float: center;\" width=\"500\" height=\"500\"  src=\"https://tranchant.github.io/TransmittingScience/img/absolute2.png\">\n",
    "\n",
    "<img style=\"float: left;\" width=\"100\" height=\"100\"  src=\"https://i.pinimg.com/236x/a8/cc/00/a8cc00c8b1b3aa8d37749fd3e00eaa25--page-blogspot-com.jpg\"> \n",
    "        * What is the absolute path of the  directory script ?\n"
   ]
  },
  {
   "cell_type": "markdown",
   "metadata": {},
   "source": [
    "# Relative Path \n",
    "\n",
    "* Path related to the present working directory\n",
    "\n",
    "* Never starts with /\n",
    "\n",
    "<img style=\"float: center;\" width=\"500\" height=\"500\"  src=\"https://tranchant.github.io/TransmittingScience/img/relative1.png\">\n"
   ]
  },
  {
   "cell_type": "markdown",
   "metadata": {},
   "source": [
    "<img style=\"float: left;\" width=\"100\" height=\"100\"  src=\"https://i.pinimg.com/236x/a8/cc/00/a8cc00c8b1b3aa8d37749fd3e00eaa25--page-blogspot-com.jpg\"> \n",
    "        * What is the relative path of the file sequence.fasta ?\n"
   ]
  },
  {
   "cell_type": "markdown",
   "metadata": {},
   "source": [
    "# Relative Path \n",
    "\n",
    "* Path related to the present working directory\n",
    "\n",
    "* Never starts with /\n",
    "\n",
    "<img style=\"float: center;\" width=\"500\" height=\"500\"  src=\"https://tranchant.github.io/TransmittingScience/img/relative2.png\">"
   ]
  },
  {
   "cell_type": "markdown",
   "metadata": {},
   "source": [
    "<img style=\"float: left;\" width=\"100\" height=\"100\"  src=\"https://i.pinimg.com/236x/a8/cc/00/a8cc00c8b1b3aa8d37749fd3e00eaa25--page-blogspot-com.jpg\"> \n",
    "        * What is the relative path of the  directory fasta ?\n"
   ]
  },
  {
   "cell_type": "markdown",
   "metadata": {},
   "source": [
    "# Rules for naming file and directory names\n",
    "\n",
    "* linux is case sensitive\n",
    "* Only ROMAN letters, numbers and _ -\n",
    "* No space, accent or special symbol\n",
    "* No need to use filename extension (.txt), just to improve readability of filenames. \n"
   ]
  },
  {
   "cell_type": "markdown",
   "metadata": {},
   "source": [
    "# Command _cd_\n",
    "\n",
    "* cd as Change Directory\n",
    "    \n",
    "* Move from the current directory into a new directory\n",
    "\n",
    "_cd DIRECTORY NAME (absolute or relative path)__"
   ]
  },
  {
   "cell_type": "markdown",
   "metadata": {},
   "source": [
    "<img style=\"float: left;\" width=\"100\" height=\"100\"  src=\"https://i.pinimg.com/236x/a8/cc/00/a8cc00c8b1b3aa8d37749fd3e00eaa25--page-blogspot-com.jpg\"> \n",
    "        * Move into the script directory (absolute path)\n",
    "        \n",
    "<img style=\"float: center;\" width=\"500\" height=\"500\"  src=\"https://southgreenplatform.github.io/trainings//images/tpLinux/tp-arbo.png\">"
   ]
  },
  {
   "cell_type": "markdown",
   "metadata": {},
   "source": [
    "<img style=\"float: left;\" width=\"100\" height=\"100\"  src=\"https://i.pinimg.com/236x/a8/cc/00/a8cc00c8b1b3aa8d37749fd3e00eaa25--page-blogspot-com.jpg\"> \n",
    "        * Move into the mydatalocal directory (absolute path)\n",
    "        \n",
    "<img style=\"float: center;\" width=\"500\" height=\"500\"  src=\"https://southgreenplatform.github.io/trainings//images/tpLinux/tp-arbo.png\">"
   ]
  },
  {
   "cell_type": "markdown",
   "metadata": {},
   "source": [
    "<img style=\"float: left;\" width=\"100\" height=\"100\"  src=\"https://i.pinimg.com/236x/a8/cc/00/a8cc00c8b1b3aa8d37749fd3e00eaa25--page-blogspot-com.jpg\"> \n",
    "        * Move into the Data directory (relative path)\n",
    "        \n",
    "<img style=\"float: center;\" width=\"500\" height=\"500\"  src=\"https://southgreenplatform.github.io/trainings//images/tpLinux/tp-arbo.png\">"
   ]
  },
  {
   "cell_type": "markdown",
   "metadata": {},
   "source": [
    "# Some Commands\n",
    "\n",
    "\n",
    "| |    |\n",
    "|:------|:------|\n",
    "|   pwd  | Display the full path of the current directory|\n",
    "|   ls  | List all files/directories|\n",
    "|   cd DIR_NAME| Change the working directory|\n",
    "| rm nom_fichier | Remove a directory\n",
    "| cp file1 file2 | Make a copy of file1 and calls it file2 |\n",
    "| cp FILE_NAME DIR_NAME | Copy the file FILE_NAME in the directory DIR_NAME |\n",
    "| cp FILE DIR/NEW_FILE | Mix of 2 |\n"
   ]
  },
  {
   "cell_type": "markdown",
   "metadata": {},
   "source": [
    "# command cat\n",
    "\n",
    "cat nom_fichier \n",
    "Displays the content of a file on the screen\n",
    "(Don’t use it with big files!!)\n",
    "\n"
   ]
  },
  {
   "cell_type": "code",
   "execution_count": 57,
   "metadata": {},
   "outputs": [
    {
     "name": "stdout",
     "output_type": "stream",
     "text": [
      "/ifb/data/mydatalocal/LINUX-TP\n"
     ]
    }
   ],
   "source": [
    "cat /ifb/data/mydatalocal/LINUX-TP/Data/vcf/vcfForSNiPlay/testsnmf.vcf"
   ]
  },
  {
   "cell_type": "markdown",
   "metadata": {},
   "source": [
    "# command wc\n",
    "\n",
    "* `wc -l`  : Displays the nomber of lines in a file\n",
    "\n",
    "\n",
    "\n",
    "\n"
   ]
  },
  {
   "cell_type": "code",
   "execution_count": 63,
   "metadata": {},
   "outputs": [
    {
     "name": "stdout",
     "output_type": "stream",
     "text": [
      "17002 reference.fasta\n"
     ]
    }
   ],
   "source": [
    "wc -l /ifb/data/mydatalocal/LINUX-TP/Data/vcf/vcfForSNiPlay/testsnmf.vcf"
   ]
  },
  {
   "cell_type": "markdown",
   "metadata": {},
   "source": [
    "# command head\n",
    "\n",
    "* `head nom_fichier`  : writes the first ten lines of a file to the screen\n"
   ]
  },
  {
   "cell_type": "code",
   "execution_count": 65,
   "metadata": {
    "scrolled": true
   },
   "outputs": [
    {
     "name": "stdout",
     "output_type": "stream",
     "text": [
      ">Reference\n",
      "TTCTTTTCCTCATCCTCTCTTCTTCCTTATCTCATCCTCTATCTCCCTCCTTTCTCTTTT\n",
      "CTCTAGTGATGACTGCGAGCCGCGAGTGGCGGCGCAACTAGCAGGCGGAGTGTGCGACGA\n",
      "TGACAGAGGCACGGCGGAGGAAAGGGGACAATCAGGACGGCGGCGGCGCGGGGACACCAT\n",
      "GCAACGACGCCCACGCCCGAAGCGATGACATTAGCGGTGACAGTTGTGGCGTAGATCAAG\n",
      "TGAGGCGCGAGAGGTGGAAGCGGGGAGCACCGACGGCAGCATGCGGTGCACAGGCCGAAG\n",
      "TTGGCGGTAGCGTCACTAGTTCACGGGGGGCGACGGGATGCACGGCATCCAAGGTGCAGC\n",
      "AGGAGGACACGGTGCGGGAGTGCAAGGAGCAGTGGCGACACATGAAGGGTGCGGTAGCAT\n",
      "TGTGGCAGCAACTCGCCTCGGCCCACGCTGACTAACTTCGCTCCCTCCGCCTCACCGCTG\n",
      "CCACGCTCTCCCGCTTTCGTGCAAGGCCACCCATCTCTCGCCATGTCCCACCACACCGCG\n"
     ]
    }
   ],
   "source": [
    "head /ifb/data/mydatalocal/LINUX-TP/Data/vcf/vcfForSNiPlay/testsnmf.vcf"
   ]
  },
  {
   "cell_type": "code",
   "execution_count": null,
   "metadata": {},
   "outputs": [],
   "source": [
    "head -n 20 ifb/data/mydatalocal/LINUX-TP/Data/vcf/vcfForSNiPlay/testsnmf.vcf"
   ]
  },
  {
   "cell_type": "markdown",
   "metadata": {},
   "source": [
    "# command tail\n",
    "\n",
    "* `tail nom_fichier`  : writes the last ten lines of a file to the screen\n"
   ]
  },
  {
   "cell_type": "code",
   "execution_count": 66,
   "metadata": {},
   "outputs": [
    {
     "name": "stdout",
     "output_type": "stream",
     "text": [
      "CTTGTTGCTTCCTCTTCCCCTCTTTTCATTTTTGTTATTTTTTATATTTCTATATTAACG\n",
      "AAGAATCAGATTTCTTAATAATCAGTTATGATTTTTTTTAATGTGGCTTTGATCTTTAGG\n",
      "TGGTGCCCATGGAAAATTTAAATGGTCGAAAACGTGTTGAAGAAGGGGAGCTTTGTGATA\n",
      "GGAGAAATGGTGATCAATCTTATCTTGTAAATTCATCACTTGATGCAGTTCTATGCCAAC\n",
      "TTCCTATATTCATGTTTTTTTCATTTTTCAGGAAGAGGAGTTGATCTTAATAGAAATTGG\n",
      "AGTGTTGATTGGGGAAAGAAGGAAAAGGTTGTTTTCTCAGCAGTTTATTTTATGCACAGG\n",
      "GAAAACTGTTTCCTTTTGACTTACTGTAGTGTGCATGTTGATTTTACTGAATTGCGTCTT\n",
      "AAGCTAATTACCTAAATTCATATGGACAAGACCGTAGCATTCCCTAAACTTGCTCGCTTG\n",
      "CTACCATTGATTGACATCCTTACTATCTTAGAACTATTTTTAATTTAGATCTATAGAGAA\n",
      "TTTAGAAAATAGACCTCTGCA\n"
     ]
    }
   ],
   "source": [
    "tail /ifb/data/mydatalocal/LINUX-TP/Data/vcf/vcfForSNiPlay/testsnmf.vcf"
   ]
  }
 ],
 "metadata": {
  "celltoolbar": "Format de la Cellule Texte Brut",
  "kernelspec": {
   "display_name": "Bash",
   "language": "bash",
   "name": "bash"
  },
  "language_info": {
   "codemirror_mode": "shell",
   "file_extension": ".sh",
   "mimetype": "text/x-sh",
   "name": "bash"
  },
  "rise": {
   "enable_chalkboard": true
  }
 },
 "nbformat": 4,
 "nbformat_minor": 4
}