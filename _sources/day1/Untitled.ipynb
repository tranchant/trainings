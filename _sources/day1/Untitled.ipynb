{
 "cells": [
  {
   "cell_type": "markdown",
   "metadata": {},
   "source": [
    "# Generate csv files"
   ]
  },
  {
   "cell_type": "code",
   "execution_count": null,
   "metadata": {},
   "outputs": [],
   "source": [
    "import os.path\n",
    "import matplotlib.pyplot as plt\n",
    "import pandas as pd\n",
    "import sys\n",
    "import pprint as pp\n",
    "\n",
    "\n",
    "dir = \"./fastqDirLR\" #bamstat\"\n",
    "fastqstat_csv = \"stat-merged.csv\"\n",
    "img_mappingob = \"stat-merged.png\"\n",
    "\n",
    "# open the file merging the fastq-stat results on the whole set of samples\n",
    "f=open(fastqstat_csv, \"a+\")\n",
    "header=\"sample,reads,len,len_mean,qual_mean, total_bases\"\n",
    "f.write(header)\n",
    "\n",
    "file_list = os.listdir(dir)\n",
    "#print(file_list)\n",
    "\n",
    "# Parsing the individual fastq-stats file\n",
    "for file in file_list:\n",
    "\n",
    "    sample =os.path.basename(file).split('.')[0]\n",
    "    #print(file)\n",
    "    print(sample)\n",
    "    break\n",
    "    newLine=f\"\\n{sample},\"\n",
    "\n",
    "    with open(dir+\"/\"+file,\"r\") as stat:\n",
    "        for line in stat:\n",
    "            line = line.rstrip()\n",
    "            #print(line)\n",
    "\n",
    "            if 'mapped (' in line or 'paired (' in line or 'singleton' in line:\n",
    "                #print(line.split('(')[1].split('%')[0])\n",
    "                newLine += f\"{line.split('(')[1].split('%')[0]},\"\n",
    "\n",
    "        if sample in obRg:\n",
    "            f.write(newLine)\n",
    "        elif sample in ogRg:\n",
    "            g.write(newLine)\n",
    "        else:\n",
    "            print(sample+\"aie\"+newLine)\n",
    "\n",
    "f.close()\n",
    "g.close()"
   ]
  }
 ],
 "metadata": {
  "kernelspec": {
   "display_name": "Python 3",
   "language": "python",
   "name": "python3"
  },
  "language_info": {
   "codemirror_mode": {
    "name": "ipython",
    "version": 3
   },
   "file_extension": ".py",
   "mimetype": "text/x-python",
   "name": "python",
   "nbconvert_exporter": "python",
   "pygments_lexer": "ipython3",
   "version": "3.8.6"
  }
 },
 "nbformat": 4,
 "nbformat_minor": 4
}
