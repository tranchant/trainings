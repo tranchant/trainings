{
 "cells": [
  {
   "cell_type": "markdown",
   "metadata": {
    "slideshow": {
     "slide_type": "slide"
    }
   },
   "source": [
    "# Discovering the linux world through jupyter \n",
    "\n",
    "<img style=\"float: left;\" width=\"400\" height=\"400\"  src=\"https://www.makeitmissoula.com/wp-content/uploads/tux-antivirus.jpg\">\n",
    "\n",
    "<img style=\"float: center;\" width=\"150\" height=\"150\"  src=\"https://upload.wikimedia.org/wikipedia/commons/thumb/3/38/Jupyter_logo.svg/1200px-Jupyter_logo.svg.png\">\n",
    "\n",
    "<br> \n",
    "\n",
    "Christine Tranchant-Dubreuil and François Sabot "
   ]
  },
  {
   "cell_type": "markdown",
   "metadata": {
    "slideshow": {
     "slide_type": "slide"
    }
   },
   "source": [
    "## The objectives\n",
    "\n",
    "<img style=\"float: right;\" width=\"500\" height=\"500\"  src=\"https://talentsum.com/wp-content/uploads/2014/10/ha.jpg\">\t Run your own analysis using jupyter book and Linux !\n",
    "    \n",
    "\n",
    "\n"
   ]
  },
  {
   "cell_type": "markdown",
   "metadata": {
    "slideshow": {
     "slide_type": "slide"
    }
   },
   "source": [
    "After this course, you will able to :\n",
    "\n",
    "* Know the main Linux commands\n",
    "* Move into the Linux file tree : pwd, ls, cd, mkdir etc.\n",
    "* Connect to a Linux server and transfer data : ssh, wget\n",
    "* Work with text files: head, tail, sort, cut, wc, grep...\n",
    "* Chain and combine commands\n",
    "* Run programs from the command line\n",
    "\n"
   ]
  },
  {
   "cell_type": "markdown",
   "metadata": {
    "slideshow": {
     "slide_type": "slide"
    }
   },
   "source": [
    "# What is Linux ?\n",
    "\n",
    "\n",
    "<img style=\"float: right;\" width=\"250\" height=\"250\"  src=\"https://upload.wikimedia.org/wikipedia/commons/6/69/Linus_Torvalds.jpeg\">\n",
    "\n",
    "An operating system well known for :\n",
    " * its security and stability\n",
    " * its frequent updates\n",
    " * its (no) fees and openSource (mostly) softwares\n",
    " \n",
    "**Created in 1991 by Linus Torvalds**\n",
    "\n",
    "Linux source code **opensource** and **free** : copy, modify, redistribute\n",
    "\n"
   ]
  },
  {
   "cell_type": "markdown",
   "metadata": {
    "slideshow": {
     "slide_type": "slide"
    }
   },
   "source": [
    "# What is Linux ?\n",
    "\n",
    "<img style=\"float: right;\" width=\"500\" height=\"500\"  src=\"https://www.impactpc2b.com/wp-content/uploads/2018/04/images.png\">\n",
    "\n",
    "* ***Robust et multi-plateform OS*** : computer, server, android…\n",
    "\n",
    "* ***Multi-users system*** : Several users can work simultaneously\n",
    "\n",
    "* ***Multi-tasking system (processes/programs)***\n",
    "</br>\n",
    "Every user can run several programs at the same time\n",
    "\n"
   ]
  },
  {
   "cell_type": "markdown",
   "metadata": {
    "slideshow": {
     "slide_type": "slide"
    }
   },
   "source": [
    "# How to use Linux ?\n",
    "\n",
    "* 2 classical ways :\n",
    "\n",
    "  **Graphical User Interface**                                     \n",
    "<img style=\"float: left;\" width=\"400\" height=\"400\" src=\"https://images.itnewsinfo.com/lmi/articles/grande/000000063733.jpg\">\n",
    "\n",
    "<img style=\"float: right;\" width=\"400\" height=\"400\"  src=\"https://static.wikia.nocookie.net/mrmen/images/6/60/Mr_Happy-1A.gif\">\n"
   ]
  },
  {
   "cell_type": "markdown",
   "metadata": {
    "slideshow": {
     "slide_type": "slide"
    }
   },
   "source": [
    "# How to use Linux ?\n",
    "\n",
    "\n",
    "* 2 classical ways :\n",
    "\n",
    "  **Graphical User Interface**     \n",
    "      \n",
    "  **Command-Line Interface through a terminal**                                     \n",
    "<img style=\"float: left;\" width=\"400\" height=\"400\" src=\"https://upload.wikimedia.org/wikipedia/commons/2/29/Linux_command-line._Bash._GNOME_Terminal._screenshot.png\">\n",
    "\n",
    "<img style=\"float: right;\" width=\"200\" height=\"200\"  src=\"https://pbs.twimg.com/media/EHueI1AU4AADeic.jpg\">\n"
   ]
  },
  {
   "cell_type": "markdown",
   "metadata": {
    "slideshow": {
     "slide_type": "slide"
    }
   },
   "source": [
    "# How to use Linux ?\n",
    "\n",
    "\n",
    "* a new and alternative ways :\n",
    "\n",
    "  **jupyter book**                       \n",
    "<img style=\"float: left;\" width=\"500\" height=\"500\"  src=\"https://user-images.githubusercontent.com/10065489/27256117-67ec0306-537a-11e7-84aa-dbf86e0608f7.png\">\n",
    "\n",
    "<img style=\"float: right;\" width=\"500\" height=\"500\" src=\"https://docs.thevirtualbrain.org/_images/ipy_notebook_home.png\">\n",
    "\n",
    "\n"
   ]
  },
  {
   "cell_type": "markdown",
   "metadata": {
    "slideshow": {
     "slide_type": "slide"
    }
   },
   "source": [
    "# Why using Linux ?\n",
    "\n",
    "\n",
    "* Numerous fast and powerful programs\n",
    "\n",
    "* Easy to link commands and programs (workflow)\n",
    "\n",
    "* Numerous bioinformatics softwares available \n",
    "\n",
    "* 90% of servers on Linux\n"
   ]
  },
  {
   "cell_type": "markdown",
   "metadata": {
    "slideshow": {
     "slide_type": "slide"
    }
   },
   "source": [
    "# Why using Linux ?\n",
    "\n",
    "Need to pratice!!!\n",
    "\n",
    "**Important investissments to have good results !!!**\n",
    "                     \n",
    "<img style=\"float: left;\" width=\"500\" height=\"500\"  src=\"https://www.mesfinancesperso.com/blog/wp-content/uploads/2014/08/le-grand-saut.jpg\">\n",
    "\n"
   ]
  },
  {
   "cell_type": "markdown",
   "metadata": {
    "slideshow": {
     "slide_type": "slide"
    }
   },
   "source": [
    "# First steps on Linux\n",
    "\n",
    "Commands for moving around the file system and manipulating files/folders\n"
   ]
  },
  {
   "cell_type": "markdown",
   "metadata": {
    "slideshow": {
     "slide_type": "subslide"
    }
   },
   "source": [
    "# First steps on Linux\n",
    "\n",
    "Commands for moving around the file system and manipulating files/folders\n",
    "\n",
    "command [ -options] [ arguments ]\n"
   ]
  },
  {
   "cell_type": "markdown",
   "metadata": {
    "slideshow": {
     "slide_type": "slide"
    }
   },
   "source": [
    "# Your first command _pwd_\n",
    "\n",
    "**pwd** print the name of the curent directory (the full path)"
   ]
  },
  {
   "cell_type": "code",
   "execution_count": 5,
   "metadata": {
    "slideshow": {
     "slide_type": "slide"
    }
   },
   "outputs": [
    {
     "name": "stdout",
     "output_type": "stream",
     "text": [
      "/home/christine/TS\n"
     ]
    }
   ],
   "source": [
    "%%bash\n",
    "pwd"
   ]
  },
  {
   "cell_type": "code",
   "execution_count": 3,
   "metadata": {},
   "outputs": [
    {
     "name": "stdout",
     "output_type": "stream",
     "text": [
      "The rpy2.ipython extension is already loaded. To reload it, use:\n",
      "  %reload_ext rpy2.ipython\n"
     ]
    }
   ],
   "source": [
    "%load_ext rpy2.ipython\n"
   ]
  },
  {
   "cell_type": "code",
   "execution_count": 4,
   "metadata": {},
   "outputs": [
    {
     "name": "stdout",
     "output_type": "stream",
     "text": [
      "[1] 3.8\n"
     ]
    }
   ],
   "source": [
    "%%R\n",
    "X=c(1,2,4,5,7)\n",
    "mean(X)"
   ]
  },
  {
   "cell_type": "code",
   "execution_count": null,
   "metadata": {},
   "outputs": [],
   "source": []
  }
 ],
 "metadata": {
  "celltoolbar": "Diaporama",
  "kernelspec": {
   "display_name": "Python 3",
   "language": "python",
   "name": "python3"
  },
  "language_info": {
   "codemirror_mode": {
    "name": "ipython",
    "version": 3
   },
   "file_extension": ".py",
   "mimetype": "text/x-python",
   "name": "python",
   "nbconvert_exporter": "python",
   "pygments_lexer": "ipython3",
   "version": "3.8.6"
  },
  "rise": {
   "enable_chalkboard": true
  }
 },
 "nbformat": 4,
 "nbformat_minor": 4
}
