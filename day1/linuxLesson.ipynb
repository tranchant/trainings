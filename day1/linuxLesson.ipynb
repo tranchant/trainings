{
 "cells": [
  {
   "cell_type": "markdown",
   "metadata": {
    "slideshow": {
     "slide_type": "slide"
    }
   },
   "source": [
    "# Discovering the linux world through jupyter \n",
    "\n",
    "<img style=\"float: left;\" width=\"400\" height=\"400\"  src=\"https://www.makeitmissoula.com/wp-content/uploads/tux-antivirus.jpg\">\n",
    "\n",
    "<img style=\"float: center;\" width=\"150\" height=\"150\"  src=\"https://upload.wikimedia.org/wikipedia/commons/thumb/3/38/Jupyter_logo.svg/1200px-Jupyter_logo.svg.png\">\n",
    "\n",
    "<br> \n",
    "\n",
    "Christine Tranchant-Dubreuil and François Sabot "
   ]
  },
  {
   "cell_type": "markdown",
   "metadata": {
    "slideshow": {
     "slide_type": "slide"
    }
   },
   "source": [
    "## The objectives\n",
    "\n",
    "<img style=\"float: right;\" width=\"500\" height=\"500\"  src=\"https://talentsum.com/wp-content/uploads/2014/10/ha.jpg\">\t Run your own analysis using jupyter book and Linux !\n",
    "    \n",
    "\n",
    "\n"
   ]
  },
  {
   "cell_type": "markdown",
   "metadata": {
    "slideshow": {
     "slide_type": "slide"
    }
   },
   "source": [
    "After this course, you will able to :\n",
    "\n",
    "* Know the main Linux commands\n",
    "* Move into the Linux file tree : `pwd`, `ls`, `cd`, mkdir` \n",
    "* Work with text files: `head`, `tail`, `wc`, `grep`\n",
    "* Chain and combine commands\n",
    "* Run programs from the command line\n",
    "\n"
   ]
  },
  {
   "cell_type": "markdown",
   "metadata": {
    "slideshow": {
     "slide_type": "slide"
    }
   },
   "source": [
    "# What is Linux ?\n",
    "\n",
    "\n",
    "<img style=\"float: right;\" width=\"250\" height=\"250\"  src=\"https://upload.wikimedia.org/wikipedia/commons/6/69/Linus_Torvalds.jpeg\">\n",
    "\n",
    "An operating system well known for :\n",
    " * its security and stability\n",
    " * its frequent updates\n",
    " * its (no) fees and openSource (mostly) softwares\n",
    " \n",
    "**Created in 1991 by Linus Torvalds**\n",
    "\n",
    "Linux source code **opensource** and **free** : copy, modify, redistribute\n",
    "\n"
   ]
  },
  {
   "cell_type": "markdown",
   "metadata": {
    "slideshow": {
     "slide_type": "slide"
    }
   },
   "source": [
    "# What is Linux ?\n",
    "\n",
    "<img style=\"float: right;\" width=\"500\" height=\"500\"  src=\"https://www.impactpc2b.com/wp-content/uploads/2018/04/images.png\">\n",
    "\n",
    "* ***Robust et multi-plateform OS*** : computer, server, android…\n",
    "\n",
    "* ***Multi-users system*** : Several users can work simultaneously\n",
    "\n",
    "* ***Multi-tasking system (processes/programs)***\n",
    "</br>\n",
    "Every user can run several programs at the same time\n",
    "\n"
   ]
  },
  {
   "cell_type": "markdown",
   "metadata": {
    "slideshow": {
     "slide_type": "slide"
    }
   },
   "source": [
    "# How to use Linux ?\n",
    "\n",
    "* 2 classical ways :\n",
    "\n",
    "  **Graphical User Interface**                                     \n",
    "<img style=\"float: left;\" width=\"400\" height=\"400\" src=\"https://images.itnewsinfo.com/lmi/articles/grande/000000063733.jpg\">\n",
    "\n",
    "<img style=\"float: right;\" width=\"200\" height=\"200\"  src=\"https://static.wikia.nocookie.net/mrmen/images/6/60/Mr_Happy-1A.gif\">\n"
   ]
  },
  {
   "cell_type": "markdown",
   "metadata": {
    "slideshow": {
     "slide_type": "slide"
    }
   },
   "source": [
    "# How to use Linux ?\n",
    "\n",
    "\n",
    "* 2 classical ways :\n",
    "\n",
    "  **Graphical User Interface**     \n",
    "      \n",
    "  **Command-Line Interface through a terminal**                                     \n",
    "<img style=\"float: left;\" width=\"300\" height=\"300\" src=\"https://upload.wikimedia.org/wikipedia/commons/2/29/Linux_command-line._Bash._GNOME_Terminal._screenshot.png\">\n",
    "\n",
    "<img style=\"float: right;\" width=\"200\" height=\"200\"  src=\"https://pbs.twimg.com/media/EHueI1AU4AADeic.jpg\">\n"
   ]
  },
  {
   "cell_type": "markdown",
   "metadata": {
    "slideshow": {
     "slide_type": "slide"
    }
   },
   "source": [
    "# How to use Linux ?\n",
    "\n",
    "\n",
    "* a new and alternative ways :\n",
    "\n",
    "  **jupyter book**                       \n",
    "<img style=\"float: left;\" width=\"500\" height=\"500\"  src=\"https://user-images.githubusercontent.com/10065489/27256117-67ec0306-537a-11e7-84aa-dbf86e0608f7.png\">\n",
    "\n",
    "<img style=\"float: right;\" width=\"500\" height=\"500\" src=\"https://docs.thevirtualbrain.org/_images/ipy_notebook_home.png\">\n",
    "\n",
    "\n"
   ]
  },
  {
   "cell_type": "markdown",
   "metadata": {
    "slideshow": {
     "slide_type": "slide"
    }
   },
   "source": [
    "# Why using Linux ?\n",
    "\n",
    "\n",
    "* Numerous fast and powerful programs\n",
    "\n",
    "* Easy to link commands and programs (workflow)\n",
    "\n",
    "* Numerous bioinformatics softwares available \n",
    "\n",
    "* 90% of servers on Linux\n"
   ]
  },
  {
   "cell_type": "markdown",
   "metadata": {
    "slideshow": {
     "slide_type": "slide"
    }
   },
   "source": [
    "# Why using Linux ?\n",
    "\n",
    "Need to practice!!! \n",
    "\n",
    "**Important investissments to have good results !!!**\n",
    "                     \n",
    "<img style=\"float: left;\" width=\"500\" height=\"500\"  src=\"https://www.mesfinancesperso.com/blog/wp-content/uploads/2014/08/le-grand-saut.jpg\">\n",
    "\n"
   ]
  },
  {
   "cell_type": "markdown",
   "metadata": {
    "slideshow": {
     "slide_type": "slide"
    }
   },
   "source": [
    "# Let's go through jupyter\n",
    "\n",
    "\n",
    "<img style=\"float: center;\" width=\"800\" height=\"800\" src=\"https://tranchant.github.io/TransmittingScience/img/cloudEnvtBeforeTP.png\">\n",
    "\n",
    "\n",
    "\n"
   ]
  },
  {
   "cell_type": "markdown",
   "metadata": {
    "slideshow": {
     "slide_type": "slide"
    }
   },
   "source": [
    "# First steps on Linux\n",
    "\n",
    "Commands for *moving around the file system* and *manipulating files/folders*\n",
    "\n",
    "<img style=\"float: left;\" width=\"800\" height=\"800\"  src=\"https://upload.wikimedia.org/wikipedia/commons/f/f3/Standard-unix-filesystem-hierarchy.svg\">\n"
   ]
  },
  {
   "cell_type": "markdown",
   "metadata": {
    "slideshow": {
     "slide_type": "slide"
    }
   },
   "source": [
    "# Linux command syntax\n",
    "\n",
    "command [ -options] [ arguments ]\n"
   ]
  },
  {
   "cell_type": "markdown",
   "metadata": {
    "slideshow": {
     "slide_type": "slide"
    }
   },
   "source": [
    "# Your first command _pwd_\n",
    "\n",
    "**pwd** print the name of the current directory (the full path)"
   ]
  },
  {
   "cell_type": "code",
   "execution_count": 1,
   "metadata": {
    "slideshow": {
     "slide_type": "fragment"
    }
   },
   "outputs": [
    {
     "name": "stdout",
     "output_type": "stream",
     "text": [
      "/ifb/data/mydatalocal\n"
     ]
    }
   ],
   "source": [
    "pwd"
   ]
  },
  {
   "cell_type": "markdown",
   "metadata": {
    "slideshow": {
     "slide_type": "fragment"
    }
   },
   "source": [
    "<img style=\"float: center;\" width=\"200\" height=\"200\"  src=\"https://tranchant.github.io/TransmittingScience/img/arbo1.png\">"
   ]
  },
  {
   "cell_type": "markdown",
   "metadata": {
    "slideshow": {
     "slide_type": "slide"
    }
   },
   "source": [
    "# 2nd command _ls_\n",
    "\n",
    "* without argument : list all the files in the current directory (by default)\n"
   ]
  },
  {
   "cell_type": "code",
   "execution_count": null,
   "metadata": {
    "scrolled": false,
    "slideshow": {
     "slide_type": "fragment"
    }
   },
   "outputs": [],
   "source": [
    "ls"
   ]
  },
  {
   "cell_type": "markdown",
   "metadata": {
    "slideshow": {
     "slide_type": "fragment"
    }
   },
   "source": [
    "<img style=\"float: center;\" width=\"200\" height=\"200\"  src=\"https://tranchant.github.io/TransmittingScience/img/arbo2.png\">"
   ]
  },
  {
   "cell_type": "markdown",
   "metadata": {
    "slideshow": {
     "slide_type": "slide"
    }
   },
   "source": [
    "# 2nd command + option _ls -l_\n",
    "\n",
    "ls -l : _list files with more information about each file_ (long)"
   ]
  },
  {
   "cell_type": "code",
   "execution_count": 3,
   "metadata": {
    "slideshow": {
     "slide_type": "fragment"
    }
   },
   "outputs": [
    {
     "name": "stdout",
     "output_type": "stream",
     "text": [
      "total 145436\n",
      "drwxr-xr-x 2 jovyan users      4096 Jan 17 20:34 fastqDirLR\n",
      "drwxr-xr-x 2 jovyan users      4096 Jan 17 20:34 fastqDirSR\n",
      "-rw-r--r-- 1 jovyan users      4346 Jan 17 20:22 hello-day1.ipynb\n",
      "-rw-r--r-- 1 jovyan users     27049 Jan 17 20:23 linuxLesson.ipynb\n",
      "-rw-r--r-- 1 jovyan users     16337 Jan 17 20:35 linuxLessonPracticalCloud.ipynb\n",
      "-rw-r--r-- 1 jovyan users      5612 Jan 13 13:52 linuxLessonPractical.ipynb\n",
      "drwxr-xr-x 6 jovyan users       109 Mar 12  2018 LINUX-TP\n",
      "-rw-r--r-- 1 jovyan users 147809743 Jan 15 15:31 LINUX-TP.tar.gz\n",
      "-rw-r--r-- 1 jovyan users      1843 Jan 17 20:32 myFirstJupyterBook.ipynb\n",
      "-rwxr-xr-x 1 jovyan users   1037013 Jan 17 20:34 reference.fasta\n"
     ]
    }
   ],
   "source": [
    "ls -l"
   ]
  },
  {
   "cell_type": "markdown",
   "metadata": {
    "slideshow": {
     "slide_type": "slide"
    }
   },
   "source": [
    "# 2nd command + argument _ls_\n",
    "\n",
    "with argument <=> directory path"
   ]
  },
  {
   "cell_type": "code",
   "execution_count": 4,
   "metadata": {
    "slideshow": {
     "slide_type": "fragment"
    }
   },
   "outputs": [
    {
     "name": "stdout",
     "output_type": "stream",
     "text": [
      "Clone10-LR.fastq  Clone14-LR.fastq  Clone3-LR.fastq  Clone7-LR.fastq\n",
      "Clone11-LR.fastq  Clone15-LR.fastq  Clone4-LR.fastq  Clone8-LR.fastq\n",
      "Clone12-LR.fastq  Clone1-LR.fastq   Clone5-LR.fastq  Clone9-LR.fastq\n",
      "Clone13-LR.fastq  Clone2-LR.fastq   Clone6-LR.fastq\n"
     ]
    }
   ],
   "source": [
    "ls fastqDirLR"
   ]
  },
  {
   "cell_type": "markdown",
   "metadata": {
    "slideshow": {
     "slide_type": "slide"
    }
   },
   "source": [
    "<img style=\"float: left;\" width=\"100\" height=\"100\"  src=\"http://vibepictures.com/wp-content/uploads/2014/02/avatar-tux-jedi-star-wars-linux-acatos1.png\"> \n",
    "\n",
    "### It's your turn !\n",
    "\n",
    "\n",
    "        * list the content of the directory fastqDirSR \n",
    "        \n",
    "<img style=\"float: center;\" width=\"200\" height=\"200\"  src=\"https://tranchant.github.io/TransmittingScience/img/arbo2.png\">"
   ]
  },
  {
   "cell_type": "markdown",
   "metadata": {
    "slideshow": {
     "slide_type": "slide"
    }
   },
   "source": [
    "# A few Basic Commands\n",
    "\n",
    "How to get help about one command\n",
    "\n",
    "* with the ’option --help ou -h     \n",
    "* with the command man                 "
   ]
  },
  {
   "cell_type": "markdown",
   "metadata": {
    "slideshow": {
     "slide_type": "slide"
    }
   },
   "source": [
    "# A few Basic Commands\n",
    "\n",
    "\n",
    "| |    |\n",
    "|------|------|\n",
    "|   pwd  | Display the full path of the current directory|\n",
    "|   ls  | List all files/directories|\n",
    "|   ls -l  | Display all files (Long listing)|\n"
   ]
  },
  {
   "cell_type": "markdown",
   "metadata": {
    "slideshow": {
     "slide_type": "slide"
    }
   },
   "source": [
    "# The file tree - file system\n",
    "\n",
    "*  Directory structure starts at the root directory called “/” (slash) \n",
    "\n",
    "<img style=\"float: center;\" width=\"500\" height=\"500\"  src=\"https://tranchant.github.io/TransmittingScience/img/arbo3.png\">\n"
   ]
  },
  {
   "cell_type": "markdown",
   "metadata": {
    "slideshow": {
     "slide_type": "slide"
    }
   },
   "source": [
    "# The file tree - Main directories\n",
    "\n",
    "<img style=\"float: center;\" width=\"500\" height=\"500\"  src=\"https://tranchant.github.io/TransmittingScience/img/arbo4.png\">\n",
    "\n",
    "\n"
   ]
  },
  {
   "cell_type": "markdown",
   "metadata": {
    "slideshow": {
     "slide_type": "slide"
    }
   },
   "source": [
    "# Path of a file\n",
    "\n",
    "* Path =  location to a file/directory in the file system\n",
    "\n",
    "* On linux filetree, you can use absolute or relative path \n",
    "\n",
    "<img style=\"float: left;\" width=\"100\" height=\"100\"  src=\"https://i.pinimg.com/236x/a8/cc/00/a8cc00c8b1b3aa8d37749fd3e00eaa25--page-blogspot-com.jpg\"> \n",
    "        * What is the difference between the absolute and relative path ?\n",
    "\n"
   ]
  },
  {
   "cell_type": "markdown",
   "metadata": {
    "slideshow": {
     "slide_type": "slide"
    }
   },
   "source": [
    "# What is an absolute path of a file or a directory ?\n",
    "\n",
    "* Path =  location to a file/directory in the file system\n",
    "\n",
    "| ABSOLUTE  |    |\n",
    "|:------|:------|\n",
    "|  Complete path of a file <br />starting from the root directory /  | |\n",
    "|   starts always with / | |\n",
    "|   always good wherever user is working | | \n",
    "\n"
   ]
  },
  {
   "cell_type": "markdown",
   "metadata": {
    "slideshow": {
     "slide_type": "slide"
    }
   },
   "source": [
    "# What is a relative path of a file or a directory ?\n",
    "\n",
    "* Path =  location to a file/directory in the file system\n",
    "\n",
    "|  | RELATIVE   |\n",
    "|:------|:------|\n",
    "|     | Path related to the present working directory <br /> (where the user is working) |\n",
    "|    | Never starts with / |\n",
    "|     | Depends on where the user is working| \n",
    "\n"
   ]
  },
  {
   "cell_type": "markdown",
   "metadata": {
    "slideshow": {
     "slide_type": "slide"
    }
   },
   "source": [
    "# In brief\n",
    "\n",
    "* Path =  location to a file/directory in the file system\n",
    "\n",
    "| ABSOLUTE  | RELATIVE   |\n",
    "|:------|:------|\n",
    "|  Complete path of a file <br />starting from the root directory /  | Path related to the present working directory <br /> (where the user is working) |\n",
    "|   starts always with / | Never starts with / |\n",
    "|   always good wherever user is working | Depends on where the user is working| \n",
    "\n"
   ]
  },
  {
   "cell_type": "markdown",
   "metadata": {
    "slideshow": {
     "slide_type": "slide"
    }
   },
   "source": [
    "# Absolute Path \n",
    "\n",
    "* Always start with / (root directory)\n",
    "\n",
    "* Always works wherever user is working on the server or vm\n",
    "\n",
    "<img style=\"float: center;\" width=\"500\" height=\"500\"  src=\"https://tranchant.github.io/TransmittingScience/img/absolute1.png\">\n"
   ]
  },
  {
   "cell_type": "markdown",
   "metadata": {
    "slideshow": {
     "slide_type": "fragment"
    }
   },
   "source": [
    "<img style=\"float: left;\" width=\"100\" height=\"100\"  src=\"https://i.pinimg.com/236x/a8/cc/00/a8cc00c8b1b3aa8d37749fd3e00eaa25--page-blogspot-com.jpg\"> \n",
    "        * What is the absolute path of the file sequence.fasta ?\n"
   ]
  },
  {
   "cell_type": "markdown",
   "metadata": {
    "slideshow": {
     "slide_type": "slide"
    }
   },
   "source": [
    "# Absolute Path \n",
    "\n",
    "* Always start with / (root directory)\n",
    "\n",
    "* Always works wherever user is working on the server or vm\n",
    "\n",
    "<img style=\"float: center;\" width=\"500\" height=\"500\"  src=\"https://tranchant.github.io/TransmittingScience/img/absolute2.png\">\n"
   ]
  },
  {
   "cell_type": "markdown",
   "metadata": {
    "slideshow": {
     "slide_type": "fragment"
    }
   },
   "source": [
    "<img style=\"float: left;\" width=\"100\" height=\"100\"  src=\"https://i.pinimg.com/236x/a8/cc/00/a8cc00c8b1b3aa8d37749fd3e00eaa25--page-blogspot-com.jpg\"> \n",
    "        * What is the absolute path of the  directory script ?\n"
   ]
  },
  {
   "cell_type": "markdown",
   "metadata": {
    "slideshow": {
     "slide_type": "slide"
    }
   },
   "source": [
    "# Relative Path \n",
    "\n",
    "* Path related to the present working directory\n",
    "\n",
    "* Never starts with /\n",
    "\n",
    "<img style=\"float: center;\" width=\"500\" height=\"500\"  src=\"https://tranchant.github.io/TransmittingScience/img/relative1.png\">\n"
   ]
  },
  {
   "cell_type": "markdown",
   "metadata": {
    "slideshow": {
     "slide_type": "fragment"
    }
   },
   "source": [
    "<img style=\"float: left;\" width=\"100\" height=\"100\"  src=\"https://i.pinimg.com/236x/a8/cc/00/a8cc00c8b1b3aa8d37749fd3e00eaa25--page-blogspot-com.jpg\"> \n",
    "        * What is the relative path of the file sequence.fasta ?\n"
   ]
  },
  {
   "cell_type": "markdown",
   "metadata": {
    "slideshow": {
     "slide_type": "slide"
    }
   },
   "source": [
    "# Relative Path \n",
    "\n",
    "* Path related to the present working directory\n",
    "\n",
    "* Never starts with /\n",
    "\n",
    "<img style=\"float: center;\" width=\"500\" height=\"500\"  src=\"https://tranchant.github.io/TransmittingScience/img/relative2.png\">\n"
   ]
  },
  {
   "cell_type": "markdown",
   "metadata": {
    "slideshow": {
     "slide_type": "fragment"
    }
   },
   "source": [
    "<img style=\"float: left;\" width=\"100\" height=\"100\"  src=\"https://i.pinimg.com/236x/a8/cc/00/a8cc00c8b1b3aa8d37749fd3e00eaa25--page-blogspot-com.jpg\"> \n",
    "        * What is the relative path of the  directory fasta ?\n"
   ]
  },
  {
   "cell_type": "markdown",
   "metadata": {
    "slideshow": {
     "slide_type": "slide"
    }
   },
   "source": [
    "# Rules for naming file and directory names\n",
    "\n",
    "* linux is case sensitive\n",
    "\n",
    "        Sequence.fasta    SEQUENCE.fasta   sequence.fasta"
   ]
  },
  {
   "cell_type": "markdown",
   "metadata": {
    "slideshow": {
     "slide_type": "slide"
    }
   },
   "source": [
    "# Rules for naming file and directory names\n",
    "\n",
    "* linux is case sensitive\n",
    "* Only ROMAN letters, numbers and _ -"
   ]
  },
  {
   "cell_type": "markdown",
   "metadata": {
    "slideshow": {
     "slide_type": "slide"
    }
   },
   "source": [
    "# Rules for naming file and directory names\n",
    "\n",
    "* linux is case sensitive\n",
    "* Only ROMAN letters, numbers and _ -\n",
    "* No space, accent or special symbol\n",
    "\n",
    "        & ~ # ”  ' { ( [ | ` \\ ^ @ ) ] } $ * % ! / ; , ?\n",
    "\n"
   ]
  },
  {
   "cell_type": "markdown",
   "metadata": {
    "slideshow": {
     "slide_type": "slide"
    }
   },
   "source": [
    "# Rules for naming file and directory names\n",
    "\n",
    "* linux is case sensitive\n",
    "* Only ROMAN letters, numbers and _ -\n",
    "* No space, accent or special symbol\n",
    "* No need to use filename extension (.txt), just to improve readability of filenames. \n"
   ]
  },
  {
   "cell_type": "markdown",
   "metadata": {
    "slideshow": {
     "slide_type": "slide"
    }
   },
   "source": [
    "# Command _cd_\n",
    "\n",
    "    \n",
    "* Move from the current directory into a new directory\n",
    "\n",
    "__cd DIRECTORY NAME (absolute or relative path)__"
   ]
  },
  {
   "cell_type": "markdown",
   "metadata": {
    "slideshow": {
     "slide_type": "slide"
    }
   },
   "source": [
    "<img style=\"float: left;\" width=\"100\" height=\"100\"  src=\"https://i.pinimg.com/236x/a8/cc/00/a8cc00c8b1b3aa8d37749fd3e00eaa25--page-blogspot-com.jpg\"> \n",
    "        * Move into the script directory (absolute path)\n",
    "        \n",
    "<img style=\"float: center;\" width=\"500\" height=\"500\"  src=\"https://southgreenplatform.github.io/trainings//images/tpLinux/tp-arbo.png\">"
   ]
  },
  {
   "cell_type": "markdown",
   "metadata": {
    "slideshow": {
     "slide_type": "slide"
    }
   },
   "source": [
    "<img style=\"float: left;\" width=\"100\" height=\"100\"  src=\"https://i.pinimg.com/236x/a8/cc/00/a8cc00c8b1b3aa8d37749fd3e00eaa25--page-blogspot-com.jpg\"> \n",
    "        * Move into the mydatalocal directory (absolute path)\n",
    "        \n",
    "<img style=\"float: center;\" width=\"500\" height=\"500\"  src=\"https://southgreenplatform.github.io/trainings//images/tpLinux/tp-arbo.png\">"
   ]
  },
  {
   "cell_type": "markdown",
   "metadata": {
    "slideshow": {
     "slide_type": "slide"
    }
   },
   "source": [
    "<img style=\"float: left;\" width=\"100\" height=\"100\"  src=\"https://i.pinimg.com/236x/a8/cc/00/a8cc00c8b1b3aa8d37749fd3e00eaa25--page-blogspot-com.jpg\"> \n",
    "        * Move into the Data directory (relative path)\n",
    "        \n",
    "<img style=\"float: center;\" width=\"500\" height=\"500\"  src=\"https://southgreenplatform.github.io/trainings//images/tpLinux/tp-arbo.png\">"
   ]
  },
  {
   "cell_type": "markdown",
   "metadata": {
    "slideshow": {
     "slide_type": "slide"
    }
   },
   "source": [
    "# Some Commands\n",
    "\n",
    "\n",
    "| |    |\n",
    "|:------|:------|\n",
    "|   pwd  | Display the full path of the current directory|\n",
    "|   ls  | List all files/directories|\n",
    "|   cd DIR_NAME| Change the working directory|\n",
    "| rm nom_fichier | Remove a directory\n",
    "| cp file1 file2 | Make a copy of file1 and calls it file2 |\n",
    "| cp FILE_NAME DIR_NAME | Copy the file FILE_NAME in the directory DIR_NAME |\n",
    "| cp FILE DIR/NEW_FILE | Mix of 2 |\n"
   ]
  },
  {
   "cell_type": "markdown",
   "metadata": {
    "slideshow": {
     "slide_type": "slide"
    }
   },
   "source": [
    "# Commands for displaying text files and searching word"
   ]
  },
  {
   "cell_type": "markdown",
   "metadata": {
    "slideshow": {
     "slide_type": "slide"
    }
   },
   "source": [
    "# command cat\n",
    "\n",
    "* `cat nom_fichier`  : Displays the content of a file on the screen\n",
    "\n",
    "(Don’t use it with big files!!)\n",
    "\n",
    "\n"
   ]
  },
  {
   "cell_type": "code",
   "execution_count": null,
   "metadata": {
    "slideshow": {
     "slide_type": "fragment"
    }
   },
   "outputs": [],
   "source": [
    "cat /ifb/data/mydatalocal/LINUX-TP/Data/vcf/vcfForSNiPlay/testsnmf.vcf"
   ]
  },
  {
   "cell_type": "markdown",
   "metadata": {
    "slideshow": {
     "slide_type": "slide"
    }
   },
   "source": [
    "# command wc\n",
    "\n",
    "* `wc -l`  : Displays the nomber of lines in a file\n",
    "\n",
    "\n",
    "\n",
    "\n"
   ]
  },
  {
   "cell_type": "code",
   "execution_count": 6,
   "metadata": {
    "slideshow": {
     "slide_type": "fragment"
    }
   },
   "outputs": [
    {
     "name": "stdout",
     "output_type": "stream",
     "text": [
      "3000 /ifb/data/mydatalocal/LINUX-TP/Data/vcf/vcfForSNiPlay/testsnmf.vcf\n"
     ]
    }
   ],
   "source": [
    "wc -l /ifb/data/mydatalocal/LINUX-TP/Data/vcf/vcfForSNiPlay/testsnmf.vcf"
   ]
  },
  {
   "cell_type": "markdown",
   "metadata": {
    "slideshow": {
     "slide_type": "slide"
    }
   },
   "source": [
    "# command head\n",
    "\n",
    "* `head nom_fichier`  : writes the first ten lines of a file to the screen"
   ]
  },
  {
   "cell_type": "code",
   "execution_count": 7,
   "metadata": {
    "slideshow": {
     "slide_type": "fragment"
    }
   },
   "outputs": [
    {
     "name": "stdout",
     "output_type": "stream",
     "text": [
      "##fileformat=VCFv4.2\n",
      "##fileDate=20161206\n",
      "##source=PLINKv1.90\n",
      "##contig=<ID=1,length=43269907>\n",
      "##contig=<ID=2,length=35936220>\n",
      "##contig=<ID=3,length=36413793>\n",
      "##contig=<ID=4,length=35502686>\n",
      "##contig=<ID=5,length=29957429>\n",
      "##contig=<ID=6,length=31247783>\n",
      "##contig=<ID=7,length=29697605>\n"
     ]
    }
   ],
   "source": [
    "head /ifb/data/mydatalocal/LINUX-TP/Data/vcf/vcfForSNiPlay/testsnmf.vcf"
   ]
  },
  {
   "cell_type": "code",
   "execution_count": null,
   "metadata": {
    "scrolled": true,
    "slideshow": {
     "slide_type": "fragment"
    }
   },
   "outputs": [],
   "source": [
    "head -n 20 /ifb/data/mydatalocal/LINUX-TP/Data/vcf/vcfForSNiPlay/testsnmf.vcf"
   ]
  },
  {
   "cell_type": "markdown",
   "metadata": {
    "slideshow": {
     "slide_type": "slide"
    }
   },
   "source": [
    "# command tail\n",
    "\n",
    "* `tail nom_fichier`  : writes the last ten lines of a file to the screen\n"
   ]
  },
  {
   "cell_type": "code",
   "execution_count": null,
   "metadata": {
    "scrolled": false,
    "slideshow": {
     "slide_type": "fragment"
    }
   },
   "outputs": [],
   "source": [
    "tail /ifb/data/mydatalocal/LINUX-TP/Data/vcf/vcfForSNiPlay/testsnmf.vcf"
   ]
  }
 ],
 "metadata": {
  "celltoolbar": "Diaporama",
  "kernelspec": {
   "display_name": "Bash",
   "language": "bash",
   "name": "bash"
  },
  "language_info": {
   "codemirror_mode": "shell",
   "file_extension": ".sh",
   "mimetype": "text/x-sh",
   "name": "bash"
  },
  "rise": {
   "enable_chalkboard": true
  }
 },
 "nbformat": 4,
 "nbformat_minor": 4
}
